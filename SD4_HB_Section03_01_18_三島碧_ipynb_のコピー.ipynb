{
  "nbformat": 4,
  "nbformat_minor": 0,
  "metadata": {
    "colab": {
      "provenance": [],
      "include_colab_link": true
    },
    "kernelspec": {
      "name": "python3",
      "display_name": "Python 3"
    },
    "language_info": {
      "name": "python"
    }
  },
  "cells": [
    {
      "cell_type": "markdown",
      "metadata": {
        "id": "view-in-github",
        "colab_type": "text"
      },
      "source": [
        "<a href=\"https://colab.research.google.com/github/Aoi1591/ASOCK-develop/blob/main/SD4_HB_Section03_01_18_%E4%B8%89%E5%B3%B6%E7%A2%A7_ipynb_%E3%81%AE%E3%82%B3%E3%83%94%E3%83%BC.ipynb\" target=\"_parent\"><img src=\"https://colab.research.google.com/assets/colab-badge.svg\" alt=\"Open In Colab\"/></a>"
      ]
    },
    {
      "cell_type": "markdown",
      "source": [
        "# 高度プログラミング演習Ｂ プログラムテンプレート\n",
        "## 統一指示\n",
        "\n",
        "\n",
        "1.   以下の形式でファイル名の「出席番号_フルネーム」の箇所を自分にあわせて変更してください\n",
        "2.   メニューの[ファイル]->[ドライブにコピーを保存]から自分のGoogleDrive内にコピーを保存してから、編集してください。最後に指示があったら、メニューの[ファイル]->[Githubにコピーを保存]からGithubOrganizationの25SD4組織内にコピーを保存・提出してください。\n",
        "\n",
        "\n",
        "\n"
      ],
      "metadata": {
        "id": "Lsy7tjsJ5Dt2"
      }
    },
    {
      "cell_type": "markdown",
      "source": [],
      "metadata": {
        "id": "X9ArPvhycKow"
      }
    },
    {
      "cell_type": "markdown",
      "source": [
        "##gogle-generativeaiのインストロールとGEMINI_API_KEYのインストロール\n",
        "\n",
        "\n",
        "\n",
        "\n",
        "\n"
      ],
      "metadata": {
        "id": "5ep0IFNvcMcT"
      }
    },
    {
      "cell_type": "code",
      "source": [
        "!pip install -q google-generativeai\n",
        "import google.generativeai as genai\n",
        "\n",
        "from google.colab import userdata\n",
        "GOOGLE_API_KEY = userdata.get(\"GEMINI_API_KEY\")"
      ],
      "metadata": {
        "id": "CBUE4j2vcYxF"
      },
      "execution_count": 1,
      "outputs": []
    },
    {
      "cell_type": "markdown",
      "source": [
        "##呼び出しの基本\n"
      ],
      "metadata": {
        "id": "nrtCuCWQd1Lo"
      }
    },
    {
      "cell_type": "code",
      "source": [
        "genai.configure(api_key = GOOGLE_API_KEY)\n",
        "model = genai.GenerativeModel('gemini-1.5-flash')\n",
        "response = model.generate_content(\"プロンプトエンジニアリングとは？\")\n",
        "print(response.text)"
      ],
      "metadata": {
        "colab": {
          "base_uri": "https://localhost:8080/",
          "height": 309
        },
        "id": "NgJqvgZnfYTD",
        "outputId": "64079f41-9359-4b01-e293-8093be4d6d4b"
      },
      "execution_count": null,
      "outputs": [
        {
          "output_type": "stream",
          "name": "stdout",
          "text": [
            "プロンプトエンジニアリングとは、**大規模言語モデル (LLM) などのAIモデルから最適な出力を得るために、入力プロンプト（指示）を設計・改良する技術・手法のことです。**  単に質問をするだけでなく、モデルの能力を最大限に引き出すための戦略的なアプローチと言えるでしょう。\n",
            "\n",
            "効果的なプロンプトエンジニアリングによって、より正確で、関連性が高く、創造的な応答を得ることが可能になります。  それは、単なる言葉の羅列ではなく、モデルの動作を理解し、その特性を考慮した上で、意図する出力を導き出すための巧みな技術です。\n",
            "\n",
            "プロンプトエンジニアリングは、以下の要素を含みます：\n",
            "\n",
            "* **プロンプトの構造:**  質問の仕方、指示の明確さ、文脈の提供など、プロンプトの構成要素を最適化します。  簡潔で明確な指示だけでなく、必要な情報を網羅的に提供することも重要です。\n",
            "* **プロンプトの種類:**  指示型、質問型、ロールプレイ型など、様々なプロンプトの種類を使い分けることで、モデルの反応を制御できます。\n",
            "* **プロンプトの調整:**  モデルの出力結果を見ながら、プロンプトを繰り返し修正・改善することで、より望ましい結果を得ることを目指します。  これは、試行錯誤を繰り返す実験的な側面を持っています。\n",
            "* **モデルの特性の理解:**  それぞれのモデルが得意とすること、苦手なことを理解し、その特性に合わせたプロンプトを作成することが重要です。  同じ指示でも、モデルによって異なる結果が返ってくることを考慮する必要があります。\n",
            "* **Few-shot learning (少数の例による学習):**  モデルにいくつかの例を示すことで、望ましい出力を示唆するテクニックです。\n",
            "\n",
            "\n",
            "効果的なプロンプトエンジニアリングは、AIを活用した様々なタスクにおいて、生産性向上や品質向上に大きく貢献します。  例えば、文章生成、コード生成、翻訳、要約、質問応答など、幅広い分野で応用されています。  近年では、専門的な技術として注目を集め、その重要性が増しています。\n",
            "\n"
          ]
        }
      ]
    },
    {
      "cell_type": "code",
      "source": [
        "##文字を指定して強制的に改行\n",
        "import textwrap\n",
        "warpped_text = textwrap.fill(response.text,width=40)\n",
        "print(warpped_text)"
      ],
      "metadata": {
        "colab": {
          "base_uri": "https://localhost:8080/"
        },
        "id": "RNZTqCTnfhuN",
        "outputId": "e1fefa29-094b-451b-9bcb-0ad329fe6866"
      },
      "execution_count": null,
      "outputs": [
        {
          "output_type": "stream",
          "name": "stdout",
          "text": [
            "プロンプトエンジニアリングとは、**大規模言語モデル (LLM) などのAIモデ\n",
            "ルから最適な出力を得るために、入力プロンプト（指示）を設計・改良する技術・手法の\n",
            "ことです。**  単に質問をするだけでなく、モデルの能力を最大限に引き出すための\n",
            "戦略的なアプローチと言えるでしょう。  効果的なプロンプトエンジニアリングによっ\n",
            "て、より正確で、関連性が高く、創造的な応答を得ることが可能になります。  それは\n",
            "、単なる言葉の羅列ではなく、モデルの動作を理解し、その特性を考慮した上で、意図す\n",
            "る出力を導き出すための巧みな技術です。\n",
            "プロンプトエンジニアリングは、以下の要素を含みます：  *\n",
            "**プロンプトの構造:**\n",
            "質問の仕方、指示の明確さ、文脈の提供など、プロンプトの構成要素を最適化します。\n",
            "簡潔で明確な指示だけでなく、必要な情報を網羅的に提供することも重要です。 *\n",
            "**プロンプトの種類:**  指示型、質問型、ロールプレイ型など、様々なプロンプ\n",
            "トの種類を使い分けることで、モデルの反応を制御できます。 *\n",
            "**プロンプトの調整:**  モデルの出力結果を見ながら、プロンプトを繰り返し修\n",
            "正・改善することで、より望ましい結果を得ることを目指します。\n",
            "これは、試行錯誤を繰り返す実験的な側面を持っています。 *\n",
            "**モデルの特性の理解:**  それぞれのモデルが得意とすること、苦手なことを理\n",
            "解し、その特性に合わせたプロンプトを作成することが重要です。\n",
            "同じ指示でも、モデルによって異なる結果が返ってくることを考慮する必要があります。\n",
            "* **Few-shot learning (少数の例による学習):**\n",
            "モデルにいくつかの例を示すことで、望ましい出力を示唆するテクニックです。   効\n",
            "果的なプロンプトエンジニアリングは、AIを活用した様々なタスクにおいて、生産性向\n",
            "上や品質向上に大きく貢献します。  例えば、文章生成、コード生成、翻訳、要約、質\n",
            "問応答など、幅広い分野で応用されています。\n",
            "近年では、専門的な技術として注目を集め、その重要性が増しています。\n"
          ]
        }
      ]
    },
    {
      "cell_type": "markdown",
      "source": [
        "##プロンプトの命令部分とデータ部分を分離して組み立てる\n"
      ],
      "metadata": {
        "id": "AM85CwFIg-7m"
      }
    },
    {
      "cell_type": "code",
      "source": [
        "##引数をデータとして差し替えて呼び出す関数\n",
        "def generate_resope_gemini(dish:str) -> str:\n",
        "  prompt = f\"以下の料理のレシピを考えてください　\\n料理名: {dish}\"\n",
        "  model = genai.GenerativeModel(\"gemini-1.5-flash\")\n",
        "  response = model.generate_content(prompt)\n",
        "  return response.text\n",
        "\n",
        "\n",
        "  ##関数に引数を渡してメッセージ送信を実行\n",
        "recipe_gemini = generate_resope_gemini(\"カレー\")\n",
        "print(recipe_gemini)"
      ],
      "metadata": {
        "colab": {
          "base_uri": "https://localhost:8080/",
          "height": 926
        },
        "id": "fzFmW9EyhHTC",
        "outputId": "a2d79de6-bbb2-4f33-df5e-b5ee92881a3d",
        "collapsed": true
      },
      "execution_count": null,
      "outputs": [
        {
          "output_type": "stream",
          "name": "stdout",
          "text": [
            "## 鶏むね肉と野菜の簡単本格カレーレシピ\n",
            "\n",
            "**調理時間:** 約40分\n",
            "**難易度:** 中級\n",
            "**人数:** 4人分\n",
            "\n",
            "\n",
            "**材料:**\n",
            "\n",
            "* 鶏むね肉: 1枚 (約300g)\n",
            "* 玉ねぎ: 1個\n",
            "* にんじん: 1本\n",
            "* ジャガイモ: 2個\n",
            "* リンゴ: 1/4個\n",
            "* ニンニク: 2かけ\n",
            "* 生姜: 1かけ\n",
            "* サラダ油: 大さじ2\n",
            "* カレールウ: 4～5かけ (お好みの辛さに合わせて調整)\n",
            "* 水: 800ml\n",
            "* 塩: 小さじ1/2\n",
            "* ケチャップ: 大さじ1\n",
            "* ウスターソース: 大さじ1\n",
            "* ガラムマサラ: 小さじ1/2 (お好みで)\n",
            "* パプリカ(赤): 1/2個 (お好みで)\n",
            "* ヨーグルト: 大さじ2 (鶏むね肉を柔らかくする為。なくても可)\n",
            "\n",
            "\n",
            "**作り方:**\n",
            "\n",
            "1. **下準備:** 鶏むね肉は一口大に切り、塩、ヨーグルト(あれば)を揉み込んで15分ほど置く。玉ねぎ、にんじん、ジャガイモは1.5cm角に切る。ニンニク、生姜はみじん切りにする。リンゴは皮をむいてすりおろす。パプリカは1.5cm角に切る。\n",
            "2. **鶏むね肉を炒める:** フライパンにサラダ油大さじ1を熱し、鶏むね肉を焼き色がつくまで炒める。取り出して一旦置いておく。\n",
            "3. **野菜を炒める:** フライパンにサラダ油大さじ1を足し、玉ねぎ、にんじん、ジャガイモを炒める。玉ねぎが透き通ってきたら、ニンニク、生姜を加えて香りが出るまで炒める。\n",
            "4. **カレーを作る:**  3にカレー粉(なければカレールウを少量加えて炒め、色を出しても良い)を加えて炒め、香りが立ったら水800ml、ケチャップ、ウスターソース、リンゴすりおろしを加えて煮込む。沸騰したらアクを取り、鶏むね肉を戻す。\n",
            "5. **煮込む:**  弱火で20分ほど煮込み、ジャガイモが柔らかくなったらカレールウを加える。\n",
            "6. **仕上げ:**  カレールウが溶けたら、ガラムマサラ(お好みで)とパプリカ(お好みで)を加えて混ぜ合わせる。味をみて塩で調整する。\n",
            "7. **完成:**  器に盛り付けて完成。ご飯と一緒に召し上がれ。\n",
            "\n",
            "\n",
            "**ポイント:**\n",
            "\n",
            "* 鶏むね肉はヨーグルトに漬けることで柔らかく仕上がります。\n",
            "* 野菜は大きめに切ると煮崩れしにくいです。\n",
            "* カレールウの種類によって辛さが異なるため、お好みの量を加えてください。\n",
            "* スパイスを足して自分好みの味にアレンジできます。(ターメリック、クミン、コリアンダーなど)\n",
            "* 辛さを調整したい場合は、鷹の爪や一味唐辛子を加えてください。\n",
            "\n",
            "\n",
            "このレシピはあくまでも基本です。お好みの野菜を追加したり、スパイスを調整したりして、自分だけのオリジナルカレーを作ってみてください。  楽しんで作ってください！\n",
            "\n"
          ]
        }
      ]
    },
    {
      "cell_type": "markdown",
      "source": [
        "##文脈を備えたプロンプト例"
      ],
      "metadata": {
        "id": "YvrIeH5G0igf"
      }
    },
    {
      "cell_type": "code",
      "source": [
        "def generate_spicy_recipe_gemini(dish: str) -> str:\n",
        "  context = \"前提条件:\\n分量: 一人分\\n味の好み: 辛口\"\n",
        "  prompt = f\"前提条件を踏まえて、以下の料理のレシピを考えてください。\\n{context}\\n料理名: {dish} \"\n",
        "\n",
        "  model = genai.GenerativeModel('gemini-1.5-flash')\n",
        "  response = model.generate_content(prompt)\n",
        "  return response.text\n",
        "\n",
        "##作った関数を呼び出す\n",
        "response_str = generate_spicy_recipe_gemini(\"カレー\")\n",
        "print(response_str)"
      ],
      "metadata": {
        "colab": {
          "base_uri": "https://localhost:8080/",
          "height": 761
        },
        "id": "6G0ghXT_0o_G",
        "outputId": "e724bfc3-96d9-439e-91c4-ebac2c7d74e7"
      },
      "execution_count": 7,
      "outputs": [
        {
          "output_type": "stream",
          "name": "stdout",
          "text": [
            "## 一人分 辛口カレー\n",
            "\n",
            "**材料:**\n",
            "\n",
            "* 玉ねぎ：1/4個 (みじん切り)\n",
            "* にんにく：1かけ (みじん切り)\n",
            "* 生姜：5g (みじん切り)\n",
            "* 豚ひき肉：50g\n",
            "* カレールウ：1/2かけ (辛口)\n",
            "* トマトケチャップ：小さじ1\n",
            "* 水：100ml\n",
            "* サラダ油：小さじ1\n",
            "* 鷹の爪：1/2本 (輪切り、お好みで増量)\n",
            "* ガラムマサラ：少々 (仕上げ用)\n",
            "* 塩：少々\n",
            "* こしょう：少々\n",
            "* ご飯：適量\n",
            "\n",
            "**作り方:**\n",
            "\n",
            "1. 鍋にサラダ油を熱し、玉ねぎ、にんにく、生姜を炒める。玉ねぎがしんなりするまで炒める。\n",
            "2. 豚ひき肉を加え、色が変わるまで炒める。\n",
            "3. 鷹の爪を加え、軽く炒める。\n",
            "4. 水を加え、沸騰したら弱火にして5分ほど煮込む。\n",
            "5. トマトケチャップ、塩、こしょうを加える。\n",
            "6. カレールウを加え、溶かしながら混ぜる。\n",
            "7. さらに5分ほど煮込み、とろみがついたら火を止める。\n",
            "8. 器にご飯を盛り、カレーをかける。\n",
            "9. 仕上げにガラムマサラを振りかける。\n",
            "\n",
            "\n",
            "**ポイント:**\n",
            "\n",
            "* より辛くしたい場合は、鷹の爪を足したり、一味唐辛子やハラペーニョなどを加える。\n",
            "* カレールウの種類によって辛さが変わるので、好みに合わせて調整する。\n",
            "*  野菜を追加したい場合は、ピーマンやパプリカなど好みの野菜を玉ねぎと一緒に炒める。\n",
            "*  スパイスを効かせたい場合は、カレー粉を小さじ1/2程度加える。\n",
            "\n",
            "\n",
            "このレシピは、手軽に作れる一人分の辛口カレーです。ぜひお好みの辛さに調整して、楽しんでください。\n",
            "\n"
          ]
        }
      ]
    },
    {
      "cell_type": "markdown",
      "source": [
        "##JSON形式で出力を指定する\n"
      ],
      "metadata": {
        "id": "JGEV8bNW46oX"
      }
    },
    {
      "cell_type": "code",
      "source": [
        "import json\n",
        "from IPython.display import JSON\n",
        "\n",
        "def generate_json_recipe_gemini(dish:str) ->dict:\n",
        "  prompt = f\"\"\"\\\n",
        "  ユーザーが入力した料理のレシピを考えてください。\n",
        "  出力は以下のJSON形式にしてください\n",
        "  {{\n",
        "    \"材料\": [\"材料1\",\"材料2\"],\n",
        "    \"手順\":[\"手順1\",\"手順2\"]\n",
        "  }}\n",
        "  料理名:{dish}\n",
        "  \"\"\"\n",
        "\n",
        "  model = genai.GenerativeModel('gemini-1.5-flash')\n",
        "  response = model.generate_content(\n",
        "    prompt,\n",
        "    generation_config= {'response_mime_type' : 'application/json'}\n",
        ")\n",
        "  return json.loads(response.text)\n",
        "\n",
        "\n",
        "##関数を呼び出す\n",
        "json_recipe_gemini = generate_json_recipe_gemini(\"カレー\")\n",
        "#JSON構造のデータを表示\n",
        "display(JSON(json_recipe_gemini).data)\n"
      ],
      "metadata": {
        "colab": {
          "base_uri": "https://localhost:8080/",
          "height": 271
        },
        "id": "yCcj3-kn4_jf",
        "outputId": "82c015ba-88ed-4b3c-a795-73e5fc3cd856"
      },
      "execution_count": 11,
      "outputs": [
        {
          "output_type": "display_data",
          "data": {
            "text/plain": [
              "{'材料': ['玉ねぎ 1個',\n",
              "  'ジャガイモ 2個',\n",
              "  '人参 1本',\n",
              "  '鶏むね肉 200g',\n",
              "  'カレールウ 1箱',\n",
              "  '水 500ml',\n",
              "  'サラダ油 大さじ1',\n",
              "  '塩コショウ 少々'],\n",
              " '手順': ['1. 玉ねぎ、ジャガイモ、ニンジンはそれぞれ1.5cm角に切る。鶏むね肉は一口大に切る。',\n",
              "  '2. 鍋にサラダ油を熱し、鶏むね肉を炒める。',\n",
              "  '3. 玉ねぎ、ジャガイモ、ニンジンを加え、さらに炒める。',\n",
              "  '4. 水を加え、沸騰したら弱火にして20分ほど煮込む。',\n",
              "  '5. カレールウを加え、溶けるまでよく混ぜる。',\n",
              "  '6. 塩コショウで味を調える。']}"
            ]
          },
          "metadata": {}
        }
      ]
    },
    {
      "cell_type": "markdown",
      "source": [
        "##Zero shot プロンプトの例\n"
      ],
      "metadata": {
        "id": "QQUFZZUH-vut"
      }
    },
    {
      "cell_type": "code",
      "source": [
        "model = genai.GenerativeModel(\"gemini-1.5-flash\")\n",
        "prompt = \"SNSで使える、面白い猫の雑学を1つ教えて！\"\n",
        "response = model.generate_content(prompt)\n",
        "\n",
        "print(\"--- プロンプト ---\")\n",
        "print(prompt)\n",
        "print(\"\\n--- AIからの応答 ---\")\n",
        "print(response.text)"
      ],
      "metadata": {
        "colab": {
          "base_uri": "https://localhost:8080/",
          "height": 200
        },
        "id": "la5HpjXY6c6Y",
        "outputId": "27ded11d-eeec-42d1-a0dd-0c37fd15e02c"
      },
      "execution_count": 15,
      "outputs": [
        {
          "output_type": "stream",
          "name": "stdout",
          "text": [
            "--- プロンプト ---\n",
            "SNSで使える、面白い猫の雑学を1つ教えて！\n",
            "\n",
            "--- AIからの応答 ---\n",
            "猫の瞳孔は縦長ですが、これは獲物を狙いやすくするためと考えられています。  明るさ調整のためという説もありますが、縦長の瞳孔を持つ動物は多くが狩猟動物であることから、獲物を追いかける際に周囲の状況を把握しやすく、立体視が優れているという説が有力なんです！  まるで小さなハンターですね！😼✨\n",
            "\n",
            "\n",
            "この投稿にハッシュタグをつけてSNSに投稿する際には、#猫の雑学 #猫好きと繋がりたい #猫の瞳孔 #猫の秘密  などを使うと良いでしょう。\n",
            "\n"
          ]
        }
      ]
    },
    {
      "cell_type": "code",
      "source": [
        "model = genai.GenerativeModel('gemini-1.5-flash')\n",
        "prompt=\"\"\"\n",
        "主な材料からおいしそうな料理名を創作してください。\n",
        "材料：鶏肉、玉ねぎ、卵、ごはん\n",
        "料理名：ふわとろ親子丼\n",
        "材料：豚肉、キムチ、豆腐\n",
        "料理名：旨辛豚キムチチゲ\n",
        "材料：トマト、ナス、ズッキーニ、パプリカ\n",
        "料理名：\n",
        "\"\"\"\n",
        "response = model.generate_content(prompt)\n",
        "print(\"--- プロンプト ---\")\n",
        "print(prompt)\n",
        "print(\"\\n--- AIからの応答 ---\")\n",
        "print(response.text)\n",
        "\n"
      ],
      "metadata": {
        "colab": {
          "base_uri": "https://localhost:8080/",
          "height": 271
        },
        "id": "z8_3PQiJA-PH",
        "outputId": "fc90eb53-da54-4a49-a9e7-58fbe2e3990a"
      },
      "execution_count": 17,
      "outputs": [
        {
          "output_type": "stream",
          "name": "stdout",
          "text": [
            "--- プロンプト ---\n",
            "\n",
            "主な材料からおいしそうな料理名を創作してください。\n",
            "材料：鶏肉、玉ねぎ、卵、ごはん\n",
            "料理名：ふわとろ親子丼\n",
            "材料：豚肉、キムチ、豆腐\n",
            "料理名：旨辛豚キムチチゲ\n",
            "材料：トマト、ナス、ズッキーニ、パプリカ\n",
            "料理名：\n",
            "\n",
            "\n",
            "--- AIからの応答 ---\n",
            "彩り野菜のトマト煮込み\n",
            "\n"
          ]
        }
      ]
    },
    {
      "cell_type": "markdown",
      "source": [],
      "metadata": {
        "id": "GeYZkG67DoDx"
      }
    },
    {
      "cell_type": "code",
      "source": [
        "model = genai.GenerativeModel('gemini-1.5-flash')\n",
        "prompt=\"名探偵コナンの正体はなぜばれないのですか？ステップバイステップで小学生にもわかるように説明してください。\"\n",
        "response = model.generate_content(prompt)\n",
        "print(\"--- プロンプト ---\")\n",
        "print(prompt)\n",
        "print(\"\\n--- AIからの応答 ---\")\n",
        "print(response.text)\n"
      ],
      "metadata": {
        "colab": {
          "base_uri": "https://localhost:8080/",
          "height": 563
        },
        "id": "srpdP2o2Dohr",
        "outputId": "dc8e96ff-33d1-462d-e0c5-2fded982a33a"
      },
      "execution_count": 18,
      "outputs": [
        {
          "output_type": "stream",
          "name": "stdout",
          "text": [
            "--- プロンプト ---\n",
            "名探偵コナンの正体はなぜばれないのですか？ステップバイステップで小学生にもわかるように説明してください。\n",
            "\n",
            "--- AIからの応答 ---\n",
            "名探偵コナンが正体（工藤新一）をばれない理由は、いくつかあります。ステップバイステップで説明しますね！\n",
            "\n",
            "**ステップ1：変声機**\n",
            "\n",
            "コナンは、小さくなった時に声も変わってしまいました。でも、普通の声じゃすぐバレちゃうので、特別な機械を使っています。これを**変声機**と言います。この変声機のおかげで、コナンは子供の声で話せるので、周りの人は新一とは気づきません。\n",
            "\n",
            "**ステップ2：推理力と観察力**\n",
            "\n",
            "コナンは新一だった頃と変わらぬ、すごい推理力と観察力を持っています。だから、事件を解決する時に、大人の知識や推理を駆使して、周りの大人は「すごい小学生だ！」と感心するだけで、新一とは結びつけません。\n",
            "\n",
            "**ステップ3：周りの大人の協力**\n",
            "\n",
            "コナンは、阿笠博士や毛利蘭、服部平次など、コナンの正体を知っている大人たちの協力を受けています。彼らはコナンの正体を秘密にして、必要に応じて助けたり、情報を隠したりしています。みんなコナンを助けるために、協力しているんです。\n",
            "\n",
            "**ステップ4：周りの人の気づきにくさ**\n",
            "\n",
            "周りの大人は、コナンをただの小学生だと思っています。小さくなった姿と子供らしい言動は、新一とは全く違う印象を与えます。大人の目から見たら、新一とコナンを結びつけるのは、なかなか難しいことです。\n",
            "\n",
            "**ステップ5：タイミングと状況**\n",
            "\n",
            "コナンは、常に危険な状況に身を置いていますが、新一に気づかれそうな状況では、うまくその場をしのぎ、正体がバレるのを防いでいます。たとえば、状況に合わせて嘘をついたり、わざと証拠を隠したりもします。\n",
            "\n",
            "\n",
            "つまり、コナンは変声機、周りの大人の協力、そして自分の高い推理力と観察力、そして状況判断によって、巧みに正体を隠しているのです。  だから、ずっと正体がバレないでいるんですね！\n",
            "\n"
          ]
        }
      ]
    }
  ]
}